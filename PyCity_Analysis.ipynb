{
 "cells": [
  {
   "cell_type": "markdown",
   "metadata": {},
   "source": [
    "PyCity School Analysis\n",
    "February 8, 2019\n",
    "Scott McEachern"
   ]
  },
  {
   "cell_type": "code",
   "execution_count": 1,
   "metadata": {},
   "outputs": [],
   "source": [
    "#- Load Datasets into DataFrame\n",
    "import os\n",
    "import pandas as pd\n",
    "\n",
    "\n",
    "# Schools DataFrame\n",
    "schoolPath = os.path.join(\".\", \"Resources\", \"schools_complete.csv\")\n",
    "\n",
    "school_df = pd.read_csv(schoolPath)\n",
    "\n",
    "\n",
    "# Student DataFrame\n",
    "studentPath = os.path.join(\".\", \"Resources\", \"students_complete.csv\")\n",
    "\n",
    "student_df = pd.read_csv(studentPath)"
   ]
  },
  {
   "cell_type": "code",
   "execution_count": 19,
   "metadata": {},
   "outputs": [
    {
     "name": "stdout",
     "output_type": "stream",
     "text": [
      "81.87784018381414\n"
     ]
    },
    {
     "data": {
      "text/html": [
       "<div>\n",
       "<style scoped>\n",
       "    .dataframe tbody tr th:only-of-type {\n",
       "        vertical-align: middle;\n",
       "    }\n",
       "\n",
       "    .dataframe tbody tr th {\n",
       "        vertical-align: top;\n",
       "    }\n",
       "\n",
       "    .dataframe thead th {\n",
       "        text-align: right;\n",
       "    }\n",
       "</style>\n",
       "<table border=\"1\" class=\"dataframe\">\n",
       "  <thead>\n",
       "    <tr style=\"text-align: right;\">\n",
       "      <th></th>\n",
       "      <th>Total Schools</th>\n",
       "      <th>Total Students</th>\n",
       "      <th>Total Budget</th>\n",
       "      <th>Average Match Score</th>\n",
       "      <th>Average Reading Score</th>\n",
       "    </tr>\n",
       "  </thead>\n",
       "  <tbody>\n",
       "    <tr>\n",
       "      <th>0</th>\n",
       "      <td>15</td>\n",
       "      <td>39,170</td>\n",
       "      <td>$24,649,428.00</td>\n",
       "      <td>78.985371</td>\n",
       "      <td>81.877840</td>\n",
       "    </tr>\n",
       "  </tbody>\n",
       "</table>\n",
       "</div>"
      ],
      "text/plain": [
       "   Total Schools Total Students    Total Budget Average Match Score  \\\n",
       "0             15         39,170  $24,649,428.00           78.985371   \n",
       "\n",
       "  Average Reading Score  \n",
       "0             81.877840  "
      ]
     },
     "execution_count": 19,
     "metadata": {},
     "output_type": "execute_result"
    }
   ],
   "source": [
    "#-District Summary\n",
    "\n",
    "\n",
    "#- Calculate Total Schools\n",
    "totalNumSchools = school_df.shape[0]\n",
    "\n",
    "\n",
    "#- Calculate Total Students\n",
    "totalNumStudents = student_df.shape[0]\n",
    "totalNumStudentsFormat = f\"{'{:,}'.format(totalNumStudents)}\"\n",
    "\n",
    "\n",
    "#- Total School Budget\n",
    "totalSchoolBudget = school_df[\"budget\"].sum()\n",
    "totalSchoolBudgetFormat = f\"${'{:,.2f}'.format(totalSchoolBudget)}\"\n",
    "\n",
    "\n",
    "#- Average Math Score\n",
    "aveMathScore = student_df[\"math_score\"].mean()\n",
    "aveMathScoreFormat = f\"{'{:,.6f}'.format(aveMathScore)}\"\n",
    "\n",
    "\n",
    "#- Average Reading Score\n",
    "aveReadingScore = student_df[\"reading_score\"].mean()\n",
    "aveReadingScoreFormat = f\"{'{:,.6f}'.format(aveReadingScore)}\"\n",
    "\n",
    "\n",
    "\n",
    "# Result Dataframe\n",
    "districtSummaryResults = {\n",
    "    'Total Schools': [totalNumSchools],\n",
    "    'Total Students': [totalNumStudentsFormat],\n",
    "    'Total Budget': [totalSchoolBudgetFormat],\n",
    "    'Average Match Score': [aveMathScoreFormat],\n",
    "    'Average Reading Score': [aveReadingScoreFormat]\n",
    "                }\n",
    "\n",
    "districtSummary_df = pd.DataFrame(districtSummaryResults)\n",
    "\n",
    "print(aveReadingScore)\n",
    "\n",
    "districtSummary_df"
   ]
  },
  {
   "cell_type": "code",
   "execution_count": null,
   "metadata": {},
   "outputs": [],
   "source": []
  }
 ],
 "metadata": {
  "kernelspec": {
   "display_name": "Python 3",
   "language": "python",
   "name": "python3"
  },
  "language_info": {
   "codemirror_mode": {
    "name": "ipython",
    "version": 3
   },
   "file_extension": ".py",
   "mimetype": "text/x-python",
   "name": "python",
   "nbconvert_exporter": "python",
   "pygments_lexer": "ipython3",
   "version": "3.7.1"
  }
 },
 "nbformat": 4,
 "nbformat_minor": 2
}
