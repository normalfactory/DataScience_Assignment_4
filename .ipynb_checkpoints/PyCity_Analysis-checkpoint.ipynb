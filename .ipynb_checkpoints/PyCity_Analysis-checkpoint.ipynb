{
 "cells": [
  {
   "cell_type": "markdown",
   "metadata": {},
   "source": [
    "PyCity School Analysis\n",
    "February 8, 2019\n",
    "Scott McEachern"
   ]
  },
  {
   "cell_type": "code",
   "execution_count": 1,
   "metadata": {},
   "outputs": [],
   "source": [
    "#- Load Datasets into DataFrame\n",
    "import os\n",
    "import pandas as pd\n",
    "\n",
    "\n",
    "# Schools DataFrame\n",
    "schoolPath = os.path.join(\".\", \"Resources\", \"schools_complete.csv\")\n",
    "\n",
    "school_df = pd.read_csv(schoolPath)\n",
    "\n",
    "\n",
    "# Student DataFrame\n",
    "studentPath = os.path.join(\".\", \"Resources\", \"students_complete.csv\")\n",
    "\n",
    "student_df = pd.read_csv(studentPath)"
   ]
  },
  {
   "cell_type": "code",
   "execution_count": 13,
   "metadata": {},
   "outputs": [
    {
     "name": "stdout",
     "output_type": "stream",
     "text": [
      "24649428\n",
      "   Total Schools Total Students    Total Budget\n",
      "0             15         39,170  $24,649,428.00\n"
     ]
    }
   ],
   "source": [
    "#-District Summary\n",
    "\n",
    "\n",
    "#- Calculate Total Schools\n",
    "totalNumSchools = school_df.shape[0]\n",
    "\n",
    "\n",
    "#- Calculate Total Students\n",
    "totalNumStudents = student_df.shape[0]\n",
    "totalNumStudentsFormat = f\"{'{:,}'.format(totalNumStudents)}\"\n",
    "\n",
    "\n",
    "#- Total School Budget\n",
    "totalSchoolBudget = school_df[\"budget\"].sum()\n",
    "totalSchoolBudgetFormat = f\"${'{:,.2f}'.format(totalSchoolBudget)}\"\n",
    "\n",
    "\n",
    "# Result Dataframe\n",
    "districtSummaryResults = {\n",
    "    'Total Schools': [totalNumSchools],\n",
    "    'Total Students': [totalNumStudentsFormat],\n",
    "    'Total Budget': [totalSchoolBudgetFormat]\n",
    "                }\n",
    "\n",
    "districtSummary_df = pd.DataFrame(districtSummaryResults)\n",
    "\n",
    "print(totalSchoolBudget)\n",
    "print(districtSummary_df)"
   ]
  },
  {
   "cell_type": "code",
   "execution_count": null,
   "metadata": {},
   "outputs": [],
   "source": []
  }
 ],
 "metadata": {
  "kernelspec": {
   "display_name": "Python 3",
   "language": "python",
   "name": "python3"
  },
  "language_info": {
   "codemirror_mode": {
    "name": "ipython",
    "version": 3
   },
   "file_extension": ".py",
   "mimetype": "text/x-python",
   "name": "python",
   "nbconvert_exporter": "python",
   "pygments_lexer": "ipython3",
   "version": "3.7.1"
  }
 },
 "nbformat": 4,
 "nbformat_minor": 2
}
